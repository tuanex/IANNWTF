{
  "nbformat": 4,
  "nbformat_minor": 0,
  "metadata": {
    "colab": {
      "provenance": [],
      "authorship_tag": "ABX9TyMwX59upWwIK8vJ7/sYVqzi",
      "include_colab_link": true
    },
    "kernelspec": {
      "name": "python3",
      "display_name": "Python 3"
    },
    "language_info": {
      "name": "python"
    }
  },
  "cells": [
    {
      "cell_type": "markdown",
      "metadata": {
        "id": "view-in-github",
        "colab_type": "text"
      },
      "source": [
        "<a href=\"https://colab.research.google.com/github/tuanex/IANNWTF/blob/master/Homework5.ipynb\" target=\"_parent\"><img src=\"https://colab.research.google.com/assets/colab-badge.svg\" alt=\"Open In Colab\"/></a>"
      ]
    },
    {
      "cell_type": "code",
      "execution_count": 1,
      "metadata": {
        "id": "dogvQyfD_J7z"
      },
      "outputs": [],
      "source": [
        "import tensorflow as tf\n",
        "import tensorflow_datasets as tfds\n",
        "import matplotlib as plt\n",
        "import numpy as np"
      ]
    },
    {
      "cell_type": "code",
      "source": [
        "# Loading the dataset\n",
        "(training_dataset, testing_dataset), ds_info = tfds.load('cifar10', split=['train','test'], as_supervised=True, with_info=True)"
      ],
      "metadata": {
        "id": "4t_Jm9Rf_LcU"
      },
      "execution_count": 2,
      "outputs": []
    },
    {
      "cell_type": "code",
      "source": [
        "# Prepare dataset\n",
        "def prepare_dataset(cifar):# Flatten\n",
        "\n",
        "    global batch_size\n",
        "\n",
        "    # Reshape dataset\n",
        "    #cifar = cifar.map(lambda img, target: (tf.reshape(img, (-1,3)), target))\n",
        "\n",
        "    # Cast and redistribute values ato floats around 1\n",
        "    cifar = cifar.map(lambda img, target: (tf.cast(img, tf.float32), target))\n",
        "    cifar = cifar.map(lambda img, target: ((img / 255), target))\n",
        "\n",
        "    # One-hottify target\n",
        "    cifar = cifar.map(lambda img, target: (img, tf.one_hot(target, depth = 10)))\n",
        "\n",
        "    # Load dataset into memory\n",
        "    cifar = cifar.cache()\n",
        "\n",
        "    # Shuffle dataset\n",
        "    cifar = cifar.shuffle(1000)\n",
        "\n",
        "    # Batch dataset\n",
        "    cifar = cifar.batch(batch_size)\n",
        "\n",
        "    # Prefetch dataset\n",
        "    cifar = cifar.prefetch(20)\n",
        "\n",
        "    return cifar"
      ],
      "metadata": {
        "id": "cwlDGq1FBbxi"
      },
      "execution_count": 3,
      "outputs": []
    },
    {
      "cell_type": "code",
      "source": [
        "# Visualise sample\n",
        "tfds.show_examples(training_dataset.take(1), ds_info, False)"
      ],
      "metadata": {
        "id": "vAYasbWFCdjQ",
        "colab": {
          "base_uri": "https://localhost:8080/",
          "height": 473
        },
        "outputId": "a3207daa-f4d1-434d-a3b7-a2dda2d84c1e"
      },
      "execution_count": 4,
      "outputs": [
        {
          "output_type": "display_data",
          "data": {
            "text/plain": [
              "<Figure size 900x900 with 1 Axes>"
            ],
            "image/png": "[encoded data removed]"
          },
          "metadata": {}
        },
        {
          "output_type": "execute_result",
          "data": {
            "text/plain": [
              "<Figure size 900x900 with 1 Axes>"
            ],
            "image/png": "[encoded data removed]"
          },
          "metadata": {},
          "execution_count": 4
        }
      ]
    },
    {
      "cell_type": "code",
      "source": [
        "class ConvNet(tf.keras.Model):\n",
        "\n",
        "    global batch_size\n",
        "\n",
        "    def __init__(self):\n",
        "\n",
        "        super(ConvNet, self).__init__()\n",
        "\n",
        "        # Layers\n",
        "        self.conv_layer_1 = tf.keras.layers.Conv2D(filters=16, kernel_size=3, padding='same', activation='relu')\n",
        "        self.conv_layer_2 = tf.keras.layers.Conv2D(filters=16, kernel_size=3, padding='same', activation='relu')\n",
        "        self.pooling_1 = tf.keras.layers.MaxPooling2D(pool_size=2, strides=2)\n",
        "\n",
        "        self.conv_layer_3 = tf.keras.layers.Conv2D(filters=32, kernel_size=3, padding='same', activation='relu')\n",
        "        self.conv_layer_4 = tf.keras.layers.Conv2D(filters=32, kernel_size=3, padding='same', activation='relu')\n",
        "        self.global_pool = tf.keras.layers.GlobalAvgPool2D()\n",
        "\n",
        "        self.flatten = tf.keras.layers.Flatten()\n",
        "\n",
        "        self.dense_1 = tf.keras.layers.Dense(batch_size * 32, activation = 'relu')\n",
        "        self.dense_2 = tf.keras.layers.Dense(batch_size * 8, activation = 'relu')\n",
        "        self.dense_3 = tf.keras.layers.Dense(64, activation = 'relu')\n",
        "\n",
        "        self.out = tf.keras.layers.Dense(10, activation = 'softmax')\n",
        "\n",
        "\n",
        "    # Apply model\n",
        "    def call(self, x):\n",
        "\n",
        "        x = self.conv_layer_1(x)\n",
        "        x = self.conv_layer_2(x)\n",
        "        x = self.pooling_1(x)\n",
        "\n",
        "        x = self.conv_layer_3(x)\n",
        "        x = self.conv_layer_4(x)\n",
        "        x = self.global_pool(x)\n",
        "\n",
        "        x = self.flatten(x)\n",
        "\n",
        "        x = self.dense_1(x)\n",
        "        x = self.dense_2(x)\n",
        "        x = self.dense_3(x)\n",
        "\n",
        "        x = self.out(x)\n",
        "        return x"
      ],
      "metadata": {
        "id": "DVfQpsFYD5Jv"
      },
      "execution_count": 5,
      "outputs": []
    },
    {
      "cell_type": "code",
      "source": [
        "# Single step of training\n",
        "# Taking as input one batch of training or testing data\n",
        "def training_step(model, value, label, loss_func, optimizer):\n",
        "\n",
        "    global loss_training\n",
        "    global acc_training\n",
        "\n",
        "    # Apply model on values and calculate loss based on prediction\n",
        "    with tf.GradientTape() as tape:\n",
        "        prediction = model.call(value)\n",
        "        loss = loss_func(label, prediction)\n",
        "\n",
        "    # Accuracy\n",
        "    accuracy = np.argmax(label, axis=1) == np.argmax(prediction, axis=1)\n",
        "    accuracy = np.mean(accuracy)\n",
        "\n",
        "    # Logging accuracy and loss\n",
        "    acc_training.append(accuracy)\n",
        "    loss_training.append(loss)\n",
        "\n",
        "    # Apply optimizer and change weights\n",
        "    gradients = tape.gradient(loss, model.trainable_variables)\n",
        "    optimizer.apply_gradients(zip(gradients, model.trainable_variables))\n",
        "\n",
        "    return model\n",
        "\n",
        "def testing_step(model, value, label, loss_func):\n",
        "\n",
        "    global loss_testing\n",
        "    global acc_testing\n",
        "\n",
        "    # Apply model on values and calculate loss based on prediction\n",
        "    prediction = model.call(value)\n",
        "    loss = loss_func(label, prediction)\n",
        "\n",
        "    # Accuracy\n",
        "    accuracy = np.argmax(label, axis = 1) == np.argmax(prediction, axis = 1)\n",
        "    accuracy = np.mean(accuracy)\n",
        "\n",
        "    # Logging accuracy and loss\n",
        "    loss_testing.append(loss)\n",
        "    acc_testing.append(accuracy)\n",
        "\n",
        "def training(model, train_ds, test_ds, loss_func, optimizer, epochs = 15):\n",
        "\n",
        "    global loss_training\n",
        "    global loss_testing\n",
        "\n",
        "    # Training\n",
        "    for epoch in range(epochs):\n",
        "        print(f\"Starting epoch {epoch}\")\n",
        "\n",
        "        # Training\n",
        "        # Iterating over batches\n",
        "        for values, labels in train_ds:\n",
        "\n",
        "            model = training_step(model, values, labels, loss_func, optimizer)\n",
        "\n",
        "        print(\"Finished training, starting the testing of current model\")\n",
        "\n",
        "        # Testing\n",
        "        # Iterating over batches\n",
        "        for values, labels in test_ds:\n",
        "\n",
        "            testing_step(model, values, labels, loss_func)\n",
        "\n",
        "        print(f\"Epoch finished with training loss of {loss_training[-1]}; and testing loss of {loss_testing[-1]}\\n\")\n",
        "\n",
        "    return model"
      ],
      "metadata": {
        "id": "PFCcw6ZGsu0N"
      },
      "execution_count": 6,
      "outputs": []
    },
    {
      "cell_type": "code",
      "source": [
        "# Hyperparameters\n",
        "batch_size = 15\n",
        "learning_rate = 0.01\n",
        "epochs = 10\n",
        "\n",
        "# Variables\n",
        "cnn_model = ConvNet()\n",
        "loss_func = tf.keras.losses.CategoricalCrossentropy()\n",
        "optimizer = tf.keras.optimizers.Adam(learning_rate)\n",
        "\n",
        "train_ds = training_dataset.apply(prepare_dataset)\n",
        "test_ds = testing_dataset.apply(prepare_dataset)\n",
        "\n",
        "# Loss and accuracies\n",
        "loss_training = []\n",
        "acc_training = []\n",
        "loss_testing = []\n",
        "acc_testing = []\n",
        "\n",
        "#cnn.build()\n",
        "#print(cnn_model.summary())"
      ],
      "metadata": {
        "id": "bYeTq3KEd2Cn"
      },
      "execution_count": 7,
      "outputs": []
    },
    {
      "cell_type": "code",
      "source": [
        "tf.keras.backend.clear_session()\n",
        "cnn_model = training(cnn_model, train_ds, test_ds, loss_func, optimizer, epochs)"
      ],
      "metadata": {
        "id": "EN_aWb-tivXg"
      },
      "execution_count": null,
      "outputs": []
    },
    {
      "cell_type": "code",
      "source": [
        "plt.pyplot.plot(acc_training)"
      ],
      "metadata": {
        "id": "_dXwXxVroaZp"
      },
      "execution_count": null,
      "outputs": []
    }
  ]
}