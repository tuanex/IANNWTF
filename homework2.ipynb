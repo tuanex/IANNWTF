{
  "nbformat": 4,
  "nbformat_minor": 0,
  "metadata": {
    "colab": {
      "provenance": [],
      "gpuType": "T4"
    },
    "kernelspec": {
      "name": "python3",
      "display_name": "Python 3"
    },
    "language_info": {
      "name": "python"
    },
    "accelerator": "GPU"
  },
  "cells": [
    {
      "cell_type": "code",
      "source": [
        "import tensorflow as tf\n",
        "import tensorflow_datasets as tfds\n",
        "import numpy as np\n",
        "from tensorflow.keras.layers import Dense\n",
        "import matplotlib.pyplot as plt"
      ],
      "metadata": {
        "id": "HCDaS2-hU6bF"
      },
      "execution_count": null,
      "outputs": []
    },
    {
      "cell_type": "code",
      "source": [
        "# Load dataset mnist\n",
        "(train_ds, test_ds), ds_info = tfds.load('mnist', split=['train', 'test'], as_supervised=True, with_info=True)"
      ],
      "metadata": {
        "id": "XW9oOW8yVGrf"
      },
      "execution_count": null,
      "outputs": []
    },
    {
      "cell_type": "code",
      "source": [
        "print(ds_info)\n",
        "\n",
        "# 1. Training: 60000 | Testing: 10000\n",
        "# 2. Shape: (28, 28, 1)\n",
        "# 3. Max: 255"
      ],
      "metadata": {
        "colab": {
          "base_uri": "https://localhost:8080/"
        },
        "id": "KIfkW_8_WhdP",
        "outputId": "8ad8dc9e-5323-4170-ebc7-25e84e79b352"
      },
      "execution_count": null,
      "outputs": [
        {
          "output_type": "stream",
          "name": "stdout",
          "text": [
            "tfds.core.DatasetInfo(\n",
            "    name='mnist',\n",
            "    full_name='mnist/3.0.1',\n",
            "    description=\"\"\"\n",
            "    The MNIST database of handwritten digits.\n",
            "    \"\"\",\n",
            "    homepage='http://yann.lecun.com/exdb/mnist/',\n",
            "    data_dir='/root/tensorflow_datasets/mnist/3.0.1',\n",
            "    file_format=tfrecord,\n",
            "    download_size=11.06 MiB,\n",
            "    dataset_size=21.00 MiB,\n",
            "    features=FeaturesDict({\n",
            "        'image': Image(shape=(28, 28, 1), dtype=uint8),\n",
            "        'label': ClassLabel(shape=(), dtype=int64, num_classes=10),\n",
            "    }),\n",
            "    supervised_keys=('image', 'label'),\n",
            "    disable_shuffling=False,\n",
            "    splits={\n",
            "        'test': <SplitInfo num_examples=10000, num_shards=1>,\n",
            "        'train': <SplitInfo num_examples=60000, num_shards=1>,\n",
            "    },\n",
            "    citation=\"\"\"@article{lecun2010mnist,\n",
            "      title={MNIST handwritten digit database},\n",
            "      author={LeCun, Yann and Cortes, Corinna and Burges, CJ},\n",
            "      journal={ATT Labs [Online]. Available: http://yann.lecun.com/exdb/mnist},\n",
            "      volume={2},\n",
            "      year={2010}\n",
            "    }\"\"\",\n",
            ")\n"
          ]
        }
      ]
    },
    {
      "cell_type": "code",
      "source": [
        "def prepare_data(mnist):\n",
        "\n",
        "    # Flatten image\n",
        "    mnist = mnist.map(lambda img, target: (tf.reshape(img, (-1,)), target))\n",
        "\n",
        "    # Cast ints to floats\n",
        "    mnist = mnist.map(lambda img, target: (tf.cast(img, tf.float32), target))\n",
        "\n",
        "    # Distribute image around 0\n",
        "    mnist = mnist.map(lambda img, target: ((img / 128) - 1., target))\n",
        "\n",
        "    # One-hotify labels\n",
        "    mnist = mnist.map(lambda img, target: (img, tf.one_hot(target, depth=10)))\n",
        "\n",
        "    # Load dataset into memory\n",
        "    mnist = mnist.cache()\n",
        "\n",
        "    # Shuffle loaded dataset\n",
        "    mnist = mnist.shuffle(1000)\n",
        "\n",
        "    # Split into batches by size\n",
        "    mnist = mnist.batch(32)\n",
        "\n",
        "    # Preload later batches of dataset\n",
        "    mnist = mnist.prefetch(20)\n",
        "\n",
        "    return mnist\n",
        "\n",
        "train_dataset = train_ds.apply(prepare_data)\n",
        "test_dataset = test_ds.apply(prepare_data)"
      ],
      "metadata": {
        "id": "YQCoZccwZ9sc"
      },
      "execution_count": null,
      "outputs": []
    },
    {
      "cell_type": "code",
      "source": [
        "class MyModel(tf.keras.Model):\n",
        "\n",
        "    def __init__(self):\n",
        "\n",
        "        super(MyModel, self).__init__()\n",
        "\n",
        "        # Initialize layers\n",
        "        self.fst_h_layer = tf.keras.layers.Dense(units=128, activation=tf.nn.sigmoid)\n",
        "        self.sec_h_layer = tf.keras.layers.Dense(units=64, activation=tf.nn.sigmoid)\n",
        "        self.out = tf.keras.layers.Dense(units=10, activation=tf.nn.softmax)\n",
        "\n",
        "    # Forward step\n",
        "    @tf.function\n",
        "    def call(self, input):\n",
        "        x = self.fst_h_layer(input)\n",
        "        x = self.sec_h_layer(x)\n",
        "        x = self.out(x)\n",
        "        return x"
      ],
      "metadata": {
        "id": "aYlzdiGBsrXe"
      },
      "execution_count": null,
      "outputs": []
    },
    {
      "cell_type": "code",
      "source": [
        "def test(model, test_data, loss_function):\n",
        "  # test over complete test data\n",
        "\n",
        "    global loss_test_arr\n",
        "    global acc_test_arr\n",
        "\n",
        "    test_accuracy = []\n",
        "    test_loss = []\n",
        "\n",
        "    for (input, target) in test_data:\n",
        "\n",
        "        # Run image through model\n",
        "        prediction = model(input)\n",
        "\n",
        "        # Determine loss and accuracy of image\n",
        "        sample_test_loss = loss_function(target, prediction)\n",
        "        sample_test_accuracy =  np.argmax(target, axis=1) == np.argmax(prediction, axis=1)\n",
        "        sample_test_accuracy = np.mean(sample_test_accuracy)\n",
        "        test_loss.append(sample_test_loss.numpy())\n",
        "        test_accuracy.append(np.mean(sample_test_accuracy))\n",
        "\n",
        "    # Add loss and accuracy of samples of batch to global arrays\n",
        "    loss_test_arr.append(tf.reduce_mean(test_loss))\n",
        "    acc_test_arr.append(tf.reduce_mean(test_accuracy))"
      ],
      "metadata": {
        "id": "0DMPZetlAnM5"
      },
      "execution_count": null,
      "outputs": []
    },
    {
      "cell_type": "code",
      "source": [
        "def training(epochs, model, training_data, test_data, loss_func, opt_func):\n",
        "    loss_per_epoch = []\n",
        "\n",
        "    global loss_train_arr\n",
        "\n",
        "    global loss_test_arr\n",
        "    global acc_test_arr\n",
        "\n",
        "\n",
        "    for i in range(epochs):\n",
        "\n",
        "        print(f\"Executing epoch {str(i+1)}, starting with accuracy {acc_test_arr[-1]}\")\n",
        "\n",
        "        # Iterate through batches\n",
        "        for image, label in training_data:\n",
        "\n",
        "            # Use Gradient-Tape\n",
        "            with tf.GradientTape() as tape:\n",
        "\n",
        "                # Run batches through model and determine loss\n",
        "                prediction = model(image)\n",
        "                loss = loss_func(label, prediction)\n",
        "\n",
        "            # Fit model\n",
        "            loss_per_epoch.append(loss)\n",
        "            gradients = tape.gradient(loss_per_epoch, model.trainable_variables)\n",
        "            opt_func.apply_gradients(zip(gradients, model.trainable_variables))\n",
        "\n",
        "        # Determine loss and accuracy for training\n",
        "        test(model, test_data, loss_func)\n",
        "\n",
        "        # Add loss of training to global variables\n",
        "        loss_train_arr.append(tf.reduce_mean(loss_per_epoch))\n"
      ],
      "metadata": {
        "id": "9fyKBH7ithn0"
      },
      "execution_count": null,
      "outputs": []
    },
    {
      "cell_type": "code",
      "source": [
        "# Hyperparameters\n",
        "learning_rate = 0.1\n",
        "epochs = 10\n",
        "momentum = 0.5\n",
        "\n",
        "# Necessary objects\n",
        "loss_cce = tf.keras.losses.CategoricalCrossentropy()\n",
        "opt = tf.keras.optimizers.SGD(learning_rate, momentum)\n",
        "model_func = MyModel()\n",
        "\n",
        "# Arrays given to training and testing function\n",
        "loss_train_arr = []\n",
        "loss_test_arr = []\n",
        "acc_test_arr = []\n",
        "\n",
        "# First test to determine accuracy\n",
        "test(model_func, test_dataset, loss_cce)"
      ],
      "metadata": {
        "id": "Ho_4ej2iuNd5"
      },
      "execution_count": null,
      "outputs": []
    },
    {
      "cell_type": "code",
      "source": [
        "tf.keras.backend.clear_session()\n",
        "\n",
        "model = training(epochs=epochs, model=model_func, training_data=train_dataset, test_data=test_dataset, loss_func=loss_cce, opt_func=opt)\n",
        "print(f\"Ended epoch 10, ending with {acc_test_arr[-1]}\")"
      ],
      "metadata": {
        "colab": {
          "base_uri": "https://localhost:8080/"
        },
        "id": "8Yu2ONt_-eb2",
        "outputId": "d5e4bae1-3a20-467d-f59c-00a0493ff06c"
      },
      "execution_count": null,
      "outputs": [
        {
          "output_type": "stream",
          "name": "stdout",
          "text": [
            "Executing epoch 1, starting with accuracy 0.10123801916932908\n"
          ]
        },
        {
          "output_type": "stream",
          "name": "stderr",
          "text": [
            "WARNING:tensorflow:5 out of the last 5 calls to <function _BaseOptimizer._update_step_xla at 0x7d42611163b0> triggered tf.function retracing. Tracing is expensive and the excessive number of tracings could be due to (1) creating @tf.function repeatedly in a loop, (2) passing tensors with different shapes, (3) passing Python objects instead of tensors. For (1), please define your @tf.function outside of the loop. For (2), @tf.function has reduce_retracing=True option that can avoid unnecessary retracing. For (3), please refer to https://www.tensorflow.org/guide/function#controlling_retracing and https://www.tensorflow.org/api_docs/python/tf/function for  more details.\n",
            "WARNING:tensorflow:6 out of the last 6 calls to <function _BaseOptimizer._update_step_xla at 0x7d42611163b0> triggered tf.function retracing. Tracing is expensive and the excessive number of tracings could be due to (1) creating @tf.function repeatedly in a loop, (2) passing tensors with different shapes, (3) passing Python objects instead of tensors. For (1), please define your @tf.function outside of the loop. For (2), @tf.function has reduce_retracing=True option that can avoid unnecessary retracing. For (3), please refer to https://www.tensorflow.org/guide/function#controlling_retracing and https://www.tensorflow.org/api_docs/python/tf/function for  more details.\n"
          ]
        },
        {
          "output_type": "stream",
          "name": "stdout",
          "text": [
            "Executing epoch 2, starting with accuracy 0.9278154952076677\n",
            "Executing epoch 3, starting with accuracy 0.9477835463258786\n",
            "Executing epoch 4, starting with accuracy 0.9596645367412141\n",
            "Executing epoch 5, starting with accuracy 0.9607627795527156\n",
            "Executing epoch 6, starting with accuracy 0.9603634185303515\n",
            "Executing epoch 7, starting with accuracy 0.9699480830670927\n",
            "Executing epoch 8, starting with accuracy 0.9713458466453674\n",
            "Executing epoch 9, starting with accuracy 0.9715455271565495\n",
            "Executing epoch 10, starting with accuracy 0.9737420127795527\n",
            "Ended epoch 10, ending with 0.9719448881789138\n"
          ]
        }
      ]
    },
    {
      "cell_type": "code",
      "source": [
        "plt.figure()\n",
        "line1 , = plt.plot(loss_train_arr,)\n",
        "line2 , = plt.plot(loss_test_arr)\n",
        "line3 , = plt.plot(acc_test_arr)\n",
        "plt.xlabel(\"Training steps\")\n",
        "plt.ylabel(\"Loss/Accuracy\")\n",
        "plt.legend((line1, line2, line3), (\"Training Loss\", \"Test Loss\", \"Test Accuracy\"))\n",
        "plt.show()"
      ],
      "metadata": {
        "id": "rcU1TGqzihnS",
        "colab": {
          "base_uri": "https://localhost:8080/",
          "height": 449
        },
        "outputId": "83aaf7a4-8b02-4949-d10d-6ab09a3d50ef"
      },
      "execution_count": null,
      "outputs": [
        {
          "output_type": "display_data",
          "data": {
            "text/plain": [
              "<Figure size 640x480 with 1 Axes>"
            ],
            "image/png": "[encoded data removed]"
          },
          "metadata": {}
        }
      ]
    },
    {
      "cell_type": "markdown",
      "source": [
        "Original:\n",
        "- Learning Rate: 0.1\n",
        "- Layers: [256, 256, 10]\n",
        "- Epochs: 10\n",
        "- Batch size: 32\n",
        "- Momentum: 0.0\n",
        "\n",
        "\n",
        "Version 1:\n",
        "- Learning Rate: 0.01\n",
        "- Layers: [256, 10]\n",
        "- Epochs: 10\n",
        "- Batch size: 64\n",
        "- Momentum: 0.5\n",
        "\n",
        "\\> Continuous increase in accuracy. No fluctuations in accuracy. Loss in testing starts high pre training, and in the first epoch lowers dramatically.\n",
        "\n",
        "Version 2:\n",
        "- Learning Rate: 0.01\n",
        "- Layers: [128, 64, 10]\n",
        "- Epochs: 10\n",
        "- Batch size: 32\n",
        "- Momentum: 0.5\n",
        "\n",
        "\\> Earlier fluctuations in accuracy than other versions.\n",
        "\n",
        "Version 3:\n",
        "- Learning Rate: 0.1\n",
        "- Layers: [128, 10]\n",
        "- Epochs: 10\n",
        "- Batch size: 32\n",
        "- Momentum: 0.5\n",
        "\n",
        "\\>  Close to 100%. Straight increase in accuracy with small fluctuations only in high accuracy with higher and higher lows as well as highs.\n",
        "\n",
        "Version 4:\n",
        "- Learning Rate: 0.01\n",
        "- Layers: [256, 256, 128, 10]\n",
        "- Epochs: 10\n",
        "- Batch size: 64\n",
        "- Momentum: 0.5\n",
        "\n",
        "\\> The accuracy rose slower than in other versions but did not reach as higher as other versions. Loss both decreased in both training and testing.\n",
        "Interestingly, the calculations were faster despite higher more layers and higher number of perceptrons, likely because of batch size."
      ],
      "metadata": {
        "id": "wuYi_U641z--"
      }
    }
  ]
}